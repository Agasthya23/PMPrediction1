{
  "nbformat": 4,
  "nbformat_minor": 0,
  "metadata": {
    "colab": {
      "name": "pm_eda.ipynb",
      "provenance": [],
      "collapsed_sections": [
        "cCWSTvjqcHHS"
      ]
    },
    "kernelspec": {
      "name": "python3",
      "display_name": "Python 3"
    },
    "language_info": {
      "name": "python"
    }
  },
  "cells": [
    {
      "cell_type": "markdown",
      "source": [
        "#Importing libraries"
      ],
      "metadata": {
        "id": "_PtlGePH-F--"
      }
    },
    {
      "cell_type": "code",
      "execution_count": null,
      "metadata": {
        "id": "97mrbz_y9Txw"
      },
      "outputs": [],
      "source": [
        "import pandas as pd\n",
        "import numpy as np\n",
        "import matplotlib.pyplot as plt\n",
        "import seaborn as sns"
      ]
    },
    {
      "cell_type": "code",
      "source": [
        "df=pd.read_csv(r'/content/drive/MyDrive/PM10_Prediction/New_data1.csv',encoding='utf-8')"
      ],
      "metadata": {
        "id": "uJVqvszf-EoH"
      },
      "execution_count": null,
      "outputs": []
    },
    {
      "cell_type": "code",
      "source": [
        "df.head()"
      ],
      "metadata": {
        "colab": {
          "base_uri": "https://localhost:8080/",
          "height": 206
        },
        "id": "ZE6xQIiiBMHu",
        "outputId": "7373f420-a790-475a-98dd-ad7637f34561"
      },
      "execution_count": null,
      "outputs": [
        {
          "output_type": "execute_result",
          "data": {
            "text/plain": [
              "   Unnamed: 0     T    TM    Tm   H PP   VV    V   VM    PM10\n",
              "0           0  20.1  28.4  15.7  54  0    6    3  5.4     106\n",
              "1           1  20.8  28.3  12.9  45  0  6.3  1.1  5.4    97.4\n",
              "2           2  21.4    29  13.7  45  0  6.3  0.4  3.5  105.33\n",
              "3           6    21  28.7    17  65  0  6.3  3.1  5.4   74.04\n",
              "4           7  20.4  27.6  16.2  61  0  5.5  1.3  5.4   63.57"
            ],
            "text/html": [
              "\n",
              "  <div id=\"df-b0883524-39c4-4ce1-8cc4-3dc0fb025d90\">\n",
              "    <div class=\"colab-df-container\">\n",
              "      <div>\n",
              "<style scoped>\n",
              "    .dataframe tbody tr th:only-of-type {\n",
              "        vertical-align: middle;\n",
              "    }\n",
              "\n",
              "    .dataframe tbody tr th {\n",
              "        vertical-align: top;\n",
              "    }\n",
              "\n",
              "    .dataframe thead th {\n",
              "        text-align: right;\n",
              "    }\n",
              "</style>\n",
              "<table border=\"1\" class=\"dataframe\">\n",
              "  <thead>\n",
              "    <tr style=\"text-align: right;\">\n",
              "      <th></th>\n",
              "      <th>Unnamed: 0</th>\n",
              "      <th>T</th>\n",
              "      <th>TM</th>\n",
              "      <th>Tm</th>\n",
              "      <th>H</th>\n",
              "      <th>PP</th>\n",
              "      <th>VV</th>\n",
              "      <th>V</th>\n",
              "      <th>VM</th>\n",
              "      <th>PM10</th>\n",
              "    </tr>\n",
              "  </thead>\n",
              "  <tbody>\n",
              "    <tr>\n",
              "      <th>0</th>\n",
              "      <td>0</td>\n",
              "      <td>20.1</td>\n",
              "      <td>28.4</td>\n",
              "      <td>15.7</td>\n",
              "      <td>54</td>\n",
              "      <td>0</td>\n",
              "      <td>6</td>\n",
              "      <td>3</td>\n",
              "      <td>5.4</td>\n",
              "      <td>106</td>\n",
              "    </tr>\n",
              "    <tr>\n",
              "      <th>1</th>\n",
              "      <td>1</td>\n",
              "      <td>20.8</td>\n",
              "      <td>28.3</td>\n",
              "      <td>12.9</td>\n",
              "      <td>45</td>\n",
              "      <td>0</td>\n",
              "      <td>6.3</td>\n",
              "      <td>1.1</td>\n",
              "      <td>5.4</td>\n",
              "      <td>97.4</td>\n",
              "    </tr>\n",
              "    <tr>\n",
              "      <th>2</th>\n",
              "      <td>2</td>\n",
              "      <td>21.4</td>\n",
              "      <td>29</td>\n",
              "      <td>13.7</td>\n",
              "      <td>45</td>\n",
              "      <td>0</td>\n",
              "      <td>6.3</td>\n",
              "      <td>0.4</td>\n",
              "      <td>3.5</td>\n",
              "      <td>105.33</td>\n",
              "    </tr>\n",
              "    <tr>\n",
              "      <th>3</th>\n",
              "      <td>6</td>\n",
              "      <td>21</td>\n",
              "      <td>28.7</td>\n",
              "      <td>17</td>\n",
              "      <td>65</td>\n",
              "      <td>0</td>\n",
              "      <td>6.3</td>\n",
              "      <td>3.1</td>\n",
              "      <td>5.4</td>\n",
              "      <td>74.04</td>\n",
              "    </tr>\n",
              "    <tr>\n",
              "      <th>4</th>\n",
              "      <td>7</td>\n",
              "      <td>20.4</td>\n",
              "      <td>27.6</td>\n",
              "      <td>16.2</td>\n",
              "      <td>61</td>\n",
              "      <td>0</td>\n",
              "      <td>5.5</td>\n",
              "      <td>1.3</td>\n",
              "      <td>5.4</td>\n",
              "      <td>63.57</td>\n",
              "    </tr>\n",
              "  </tbody>\n",
              "</table>\n",
              "</div>\n",
              "      <button class=\"colab-df-convert\" onclick=\"convertToInteractive('df-b0883524-39c4-4ce1-8cc4-3dc0fb025d90')\"\n",
              "              title=\"Convert this dataframe to an interactive table.\"\n",
              "              style=\"display:none;\">\n",
              "        \n",
              "  <svg xmlns=\"http://www.w3.org/2000/svg\" height=\"24px\"viewBox=\"0 0 24 24\"\n",
              "       width=\"24px\">\n",
              "    <path d=\"M0 0h24v24H0V0z\" fill=\"none\"/>\n",
              "    <path d=\"M18.56 5.44l.94 2.06.94-2.06 2.06-.94-2.06-.94-.94-2.06-.94 2.06-2.06.94zm-11 1L8.5 8.5l.94-2.06 2.06-.94-2.06-.94L8.5 2.5l-.94 2.06-2.06.94zm10 10l.94 2.06.94-2.06 2.06-.94-2.06-.94-.94-2.06-.94 2.06-2.06.94z\"/><path d=\"M17.41 7.96l-1.37-1.37c-.4-.4-.92-.59-1.43-.59-.52 0-1.04.2-1.43.59L10.3 9.45l-7.72 7.72c-.78.78-.78 2.05 0 2.83L4 21.41c.39.39.9.59 1.41.59.51 0 1.02-.2 1.41-.59l7.78-7.78 2.81-2.81c.8-.78.8-2.07 0-2.86zM5.41 20L4 18.59l7.72-7.72 1.47 1.35L5.41 20z\"/>\n",
              "  </svg>\n",
              "      </button>\n",
              "      \n",
              "  <style>\n",
              "    .colab-df-container {\n",
              "      display:flex;\n",
              "      flex-wrap:wrap;\n",
              "      gap: 12px;\n",
              "    }\n",
              "\n",
              "    .colab-df-convert {\n",
              "      background-color: #E8F0FE;\n",
              "      border: none;\n",
              "      border-radius: 50%;\n",
              "      cursor: pointer;\n",
              "      display: none;\n",
              "      fill: #1967D2;\n",
              "      height: 32px;\n",
              "      padding: 0 0 0 0;\n",
              "      width: 32px;\n",
              "    }\n",
              "\n",
              "    .colab-df-convert:hover {\n",
              "      background-color: #E2EBFA;\n",
              "      box-shadow: 0px 1px 2px rgba(60, 64, 67, 0.3), 0px 1px 3px 1px rgba(60, 64, 67, 0.15);\n",
              "      fill: #174EA6;\n",
              "    }\n",
              "\n",
              "    [theme=dark] .colab-df-convert {\n",
              "      background-color: #3B4455;\n",
              "      fill: #D2E3FC;\n",
              "    }\n",
              "\n",
              "    [theme=dark] .colab-df-convert:hover {\n",
              "      background-color: #434B5C;\n",
              "      box-shadow: 0px 1px 3px 1px rgba(0, 0, 0, 0.15);\n",
              "      filter: drop-shadow(0px 1px 2px rgba(0, 0, 0, 0.3));\n",
              "      fill: #FFFFFF;\n",
              "    }\n",
              "  </style>\n",
              "\n",
              "      <script>\n",
              "        const buttonEl =\n",
              "          document.querySelector('#df-b0883524-39c4-4ce1-8cc4-3dc0fb025d90 button.colab-df-convert');\n",
              "        buttonEl.style.display =\n",
              "          google.colab.kernel.accessAllowed ? 'block' : 'none';\n",
              "\n",
              "        async function convertToInteractive(key) {\n",
              "          const element = document.querySelector('#df-b0883524-39c4-4ce1-8cc4-3dc0fb025d90');\n",
              "          const dataTable =\n",
              "            await google.colab.kernel.invokeFunction('convertToInteractive',\n",
              "                                                     [key], {});\n",
              "          if (!dataTable) return;\n",
              "\n",
              "          const docLinkHtml = 'Like what you see? Visit the ' +\n",
              "            '<a target=\"_blank\" href=https://colab.research.google.com/notebooks/data_table.ipynb>data table notebook</a>'\n",
              "            + ' to learn more about interactive tables.';\n",
              "          element.innerHTML = '';\n",
              "          dataTable['output_type'] = 'display_data';\n",
              "          await google.colab.output.renderOutput(dataTable, element);\n",
              "          const docLink = document.createElement('div');\n",
              "          docLink.innerHTML = docLinkHtml;\n",
              "          element.appendChild(docLink);\n",
              "        }\n",
              "      </script>\n",
              "    </div>\n",
              "  </div>\n",
              "  "
            ]
          },
          "metadata": {},
          "execution_count": 3
        }
      ]
    },
    {
      "cell_type": "code",
      "source": [
        "df=df.rename({'T': 'Avg temp','TM':'Max temp','Tm':'Min temp','H':'Avg relative humidity','PP':'Total rainfall','VV':'Avg visibility','V':'Avg wind speed','VM':'Max wind speed'},axis=1)"
      ],
      "metadata": {
        "id": "OWmucOCvTVjR"
      },
      "execution_count": null,
      "outputs": []
    },
    {
      "cell_type": "code",
      "source": [
        "df=df.drop(['Unnamed: 0'],axis=1)"
      ],
      "metadata": {
        "id": "I7TMdTGs3d2j"
      },
      "execution_count": null,
      "outputs": []
    },
    {
      "cell_type": "markdown",
      "source": [
        "#Handling Null Values"
      ],
      "metadata": {
        "id": "cCWSTvjqcHHS"
      }
    },
    {
      "cell_type": "code",
      "source": [
        "df.head()"
      ],
      "metadata": {
        "colab": {
          "base_uri": "https://localhost:8080/"
        },
        "id": "jdtewPoAbOkD",
        "outputId": "6e2ab8f0-b11c-44bf-adb4-2b03cb88ea0a"
      },
      "execution_count": null,
      "outputs": [
        {
          "output_type": "execute_result",
          "data": {
            "text/plain": [
              "  Avg temp Max temp Min temp Avg relative humidity Total rainfall  \\\n",
              "0     20.1     28.4     15.7                    54              0   \n",
              "1     20.8     28.3     12.9                    45              0   \n",
              "2     21.4       29     13.7                    45              0   \n",
              "3       21     28.7       17                    65              0   \n",
              "4     20.4     27.6     16.2                    61              0   \n",
              "\n",
              "  Avg visibility Avg wind speed Max wind speed    PM10  \n",
              "0              6              3            5.4     106  \n",
              "1            6.3            1.1            5.4    97.4  \n",
              "2            6.3            0.4            3.5  105.33  \n",
              "3            6.3            3.1            5.4   74.04  \n",
              "4            5.5            1.3            5.4   63.57  "
            ],
            "text/html": [
              "\n",
              "  <div id=\"df-fabfb032-a9f4-43f5-8206-67d6d6afac78\">\n",
              "    <div class=\"colab-df-container\">\n",
              "      <div>\n",
              "<style scoped>\n",
              "    .dataframe tbody tr th:only-of-type {\n",
              "        vertical-align: middle;\n",
              "    }\n",
              "\n",
              "    .dataframe tbody tr th {\n",
              "        vertical-align: top;\n",
              "    }\n",
              "\n",
              "    .dataframe thead th {\n",
              "        text-align: right;\n",
              "    }\n",
              "</style>\n",
              "<table border=\"1\" class=\"dataframe\">\n",
              "  <thead>\n",
              "    <tr style=\"text-align: right;\">\n",
              "      <th></th>\n",
              "      <th>Avg temp</th>\n",
              "      <th>Max temp</th>\n",
              "      <th>Min temp</th>\n",
              "      <th>Avg relative humidity</th>\n",
              "      <th>Total rainfall</th>\n",
              "      <th>Avg visibility</th>\n",
              "      <th>Avg wind speed</th>\n",
              "      <th>Max wind speed</th>\n",
              "      <th>PM10</th>\n",
              "    </tr>\n",
              "  </thead>\n",
              "  <tbody>\n",
              "    <tr>\n",
              "      <th>0</th>\n",
              "      <td>20.1</td>\n",
              "      <td>28.4</td>\n",
              "      <td>15.7</td>\n",
              "      <td>54</td>\n",
              "      <td>0</td>\n",
              "      <td>6</td>\n",
              "      <td>3</td>\n",
              "      <td>5.4</td>\n",
              "      <td>106</td>\n",
              "    </tr>\n",
              "    <tr>\n",
              "      <th>1</th>\n",
              "      <td>20.8</td>\n",
              "      <td>28.3</td>\n",
              "      <td>12.9</td>\n",
              "      <td>45</td>\n",
              "      <td>0</td>\n",
              "      <td>6.3</td>\n",
              "      <td>1.1</td>\n",
              "      <td>5.4</td>\n",
              "      <td>97.4</td>\n",
              "    </tr>\n",
              "    <tr>\n",
              "      <th>2</th>\n",
              "      <td>21.4</td>\n",
              "      <td>29</td>\n",
              "      <td>13.7</td>\n",
              "      <td>45</td>\n",
              "      <td>0</td>\n",
              "      <td>6.3</td>\n",
              "      <td>0.4</td>\n",
              "      <td>3.5</td>\n",
              "      <td>105.33</td>\n",
              "    </tr>\n",
              "    <tr>\n",
              "      <th>3</th>\n",
              "      <td>21</td>\n",
              "      <td>28.7</td>\n",
              "      <td>17</td>\n",
              "      <td>65</td>\n",
              "      <td>0</td>\n",
              "      <td>6.3</td>\n",
              "      <td>3.1</td>\n",
              "      <td>5.4</td>\n",
              "      <td>74.04</td>\n",
              "    </tr>\n",
              "    <tr>\n",
              "      <th>4</th>\n",
              "      <td>20.4</td>\n",
              "      <td>27.6</td>\n",
              "      <td>16.2</td>\n",
              "      <td>61</td>\n",
              "      <td>0</td>\n",
              "      <td>5.5</td>\n",
              "      <td>1.3</td>\n",
              "      <td>5.4</td>\n",
              "      <td>63.57</td>\n",
              "    </tr>\n",
              "  </tbody>\n",
              "</table>\n",
              "</div>\n",
              "      <button class=\"colab-df-convert\" onclick=\"convertToInteractive('df-fabfb032-a9f4-43f5-8206-67d6d6afac78')\"\n",
              "              title=\"Convert this dataframe to an interactive table.\"\n",
              "              style=\"display:none;\">\n",
              "        \n",
              "  <svg xmlns=\"http://www.w3.org/2000/svg\" height=\"24px\"viewBox=\"0 0 24 24\"\n",
              "       width=\"24px\">\n",
              "    <path d=\"M0 0h24v24H0V0z\" fill=\"none\"/>\n",
              "    <path d=\"M18.56 5.44l.94 2.06.94-2.06 2.06-.94-2.06-.94-.94-2.06-.94 2.06-2.06.94zm-11 1L8.5 8.5l.94-2.06 2.06-.94-2.06-.94L8.5 2.5l-.94 2.06-2.06.94zm10 10l.94 2.06.94-2.06 2.06-.94-2.06-.94-.94-2.06-.94 2.06-2.06.94z\"/><path d=\"M17.41 7.96l-1.37-1.37c-.4-.4-.92-.59-1.43-.59-.52 0-1.04.2-1.43.59L10.3 9.45l-7.72 7.72c-.78.78-.78 2.05 0 2.83L4 21.41c.39.39.9.59 1.41.59.51 0 1.02-.2 1.41-.59l7.78-7.78 2.81-2.81c.8-.78.8-2.07 0-2.86zM5.41 20L4 18.59l7.72-7.72 1.47 1.35L5.41 20z\"/>\n",
              "  </svg>\n",
              "      </button>\n",
              "      \n",
              "  <style>\n",
              "    .colab-df-container {\n",
              "      display:flex;\n",
              "      flex-wrap:wrap;\n",
              "      gap: 12px;\n",
              "    }\n",
              "\n",
              "    .colab-df-convert {\n",
              "      background-color: #E8F0FE;\n",
              "      border: none;\n",
              "      border-radius: 50%;\n",
              "      cursor: pointer;\n",
              "      display: none;\n",
              "      fill: #1967D2;\n",
              "      height: 32px;\n",
              "      padding: 0 0 0 0;\n",
              "      width: 32px;\n",
              "    }\n",
              "\n",
              "    .colab-df-convert:hover {\n",
              "      background-color: #E2EBFA;\n",
              "      box-shadow: 0px 1px 2px rgba(60, 64, 67, 0.3), 0px 1px 3px 1px rgba(60, 64, 67, 0.15);\n",
              "      fill: #174EA6;\n",
              "    }\n",
              "\n",
              "    [theme=dark] .colab-df-convert {\n",
              "      background-color: #3B4455;\n",
              "      fill: #D2E3FC;\n",
              "    }\n",
              "\n",
              "    [theme=dark] .colab-df-convert:hover {\n",
              "      background-color: #434B5C;\n",
              "      box-shadow: 0px 1px 3px 1px rgba(0, 0, 0, 0.15);\n",
              "      filter: drop-shadow(0px 1px 2px rgba(0, 0, 0, 0.3));\n",
              "      fill: #FFFFFF;\n",
              "    }\n",
              "  </style>\n",
              "\n",
              "      <script>\n",
              "        const buttonEl =\n",
              "          document.querySelector('#df-fabfb032-a9f4-43f5-8206-67d6d6afac78 button.colab-df-convert');\n",
              "        buttonEl.style.display =\n",
              "          google.colab.kernel.accessAllowed ? 'block' : 'none';\n",
              "\n",
              "        async function convertToInteractive(key) {\n",
              "          const element = document.querySelector('#df-fabfb032-a9f4-43f5-8206-67d6d6afac78');\n",
              "          const dataTable =\n",
              "            await google.colab.kernel.invokeFunction('convertToInteractive',\n",
              "                                                     [key], {});\n",
              "          if (!dataTable) return;\n",
              "\n",
              "          const docLinkHtml = 'Like what you see? Visit the ' +\n",
              "            '<a target=\"_blank\" href=https://colab.research.google.com/notebooks/data_table.ipynb>data table notebook</a>'\n",
              "            + ' to learn more about interactive tables.';\n",
              "          element.innerHTML = '';\n",
              "          dataTable['output_type'] = 'display_data';\n",
              "          await google.colab.output.renderOutput(dataTable, element);\n",
              "          const docLink = document.createElement('div');\n",
              "          docLink.innerHTML = docLinkHtml;\n",
              "          element.appendChild(docLink);\n",
              "        }\n",
              "      </script>\n",
              "    </div>\n",
              "  </div>\n",
              "  "
            ]
          },
          "metadata": {},
          "execution_count": 7
        }
      ]
    },
    {
      "cell_type": "markdown",
      "source": [
        "Observed that there are '-' (hyphen) symbol in place of numeric values, replacing with NaN values"
      ],
      "metadata": {
        "id": "UKMMvS51Y8N-"
      }
    },
    {
      "cell_type": "markdown",
      "source": [
        "Also, hyphen values are observed only in specific columns"
      ],
      "metadata": {
        "id": "ZoLdtHcDdOzV"
      }
    },
    {
      "cell_type": "code",
      "source": [
        "df.loc[df['Avg temp']=='-']"
      ],
      "metadata": {
        "colab": {
          "base_uri": "https://localhost:8080/"
        },
        "id": "b4TGSnbmc9aH",
        "outputId": "06f78289-4d63-4745-e9b1-07e7c895493a"
      },
      "execution_count": null,
      "outputs": [
        {
          "output_type": "execute_result",
          "data": {
            "text/plain": [
              "    Avg temp Max temp Min temp Avg relative humidity Total rainfall  \\\n",
              "162        -        -        -                     -              -   \n",
              "187        -        -        -                     -              -   \n",
              "374        -        -        -                     -              -   \n",
              "509        -        -        -                     -              -   \n",
              "513        -        -        -                     -              -   \n",
              "542        -        -        -                     -              -   \n",
              "543        -        -        -                     -              -   \n",
              "544        -        -        -                     -              -   \n",
              "545        -        -        -                     -              -   \n",
              "546        -        -        -                     -              -   \n",
              "547        -        -        -                     -              -   \n",
              "638        -        -        -                     -              -   \n",
              "639        -        -        -                     -              -   \n",
              "640        -        -        -                     -              -   \n",
              "641        -        -        -                     -              -   \n",
              "\n",
              "    Avg visibility Avg wind speed Max wind speed    PM10  \n",
              "162              -              -              -  142.17  \n",
              "187              -              -              -   130.6  \n",
              "374              -              -              -   76.69  \n",
              "509              -              -              -   64.28  \n",
              "513              -              -              -   77.15  \n",
              "542              -              -              -  163.24  \n",
              "543              -              -              -  139.15  \n",
              "544              -              -              -  103.58  \n",
              "545              -              -              -  113.35  \n",
              "546              -              -              -  106.46  \n",
              "547              -              -              -    None  \n",
              "638              -              -              -  162.51  \n",
              "639              -              -              -  139.67  \n",
              "640              -              -              -    None  \n",
              "641              -              -              -    None  "
            ],
            "text/html": [
              "\n",
              "  <div id=\"df-55753ece-8323-412c-826d-fab77e552aa8\">\n",
              "    <div class=\"colab-df-container\">\n",
              "      <div>\n",
              "<style scoped>\n",
              "    .dataframe tbody tr th:only-of-type {\n",
              "        vertical-align: middle;\n",
              "    }\n",
              "\n",
              "    .dataframe tbody tr th {\n",
              "        vertical-align: top;\n",
              "    }\n",
              "\n",
              "    .dataframe thead th {\n",
              "        text-align: right;\n",
              "    }\n",
              "</style>\n",
              "<table border=\"1\" class=\"dataframe\">\n",
              "  <thead>\n",
              "    <tr style=\"text-align: right;\">\n",
              "      <th></th>\n",
              "      <th>Avg temp</th>\n",
              "      <th>Max temp</th>\n",
              "      <th>Min temp</th>\n",
              "      <th>Avg relative humidity</th>\n",
              "      <th>Total rainfall</th>\n",
              "      <th>Avg visibility</th>\n",
              "      <th>Avg wind speed</th>\n",
              "      <th>Max wind speed</th>\n",
              "      <th>PM10</th>\n",
              "    </tr>\n",
              "  </thead>\n",
              "  <tbody>\n",
              "    <tr>\n",
              "      <th>162</th>\n",
              "      <td>-</td>\n",
              "      <td>-</td>\n",
              "      <td>-</td>\n",
              "      <td>-</td>\n",
              "      <td>-</td>\n",
              "      <td>-</td>\n",
              "      <td>-</td>\n",
              "      <td>-</td>\n",
              "      <td>142.17</td>\n",
              "    </tr>\n",
              "    <tr>\n",
              "      <th>187</th>\n",
              "      <td>-</td>\n",
              "      <td>-</td>\n",
              "      <td>-</td>\n",
              "      <td>-</td>\n",
              "      <td>-</td>\n",
              "      <td>-</td>\n",
              "      <td>-</td>\n",
              "      <td>-</td>\n",
              "      <td>130.6</td>\n",
              "    </tr>\n",
              "    <tr>\n",
              "      <th>374</th>\n",
              "      <td>-</td>\n",
              "      <td>-</td>\n",
              "      <td>-</td>\n",
              "      <td>-</td>\n",
              "      <td>-</td>\n",
              "      <td>-</td>\n",
              "      <td>-</td>\n",
              "      <td>-</td>\n",
              "      <td>76.69</td>\n",
              "    </tr>\n",
              "    <tr>\n",
              "      <th>509</th>\n",
              "      <td>-</td>\n",
              "      <td>-</td>\n",
              "      <td>-</td>\n",
              "      <td>-</td>\n",
              "      <td>-</td>\n",
              "      <td>-</td>\n",
              "      <td>-</td>\n",
              "      <td>-</td>\n",
              "      <td>64.28</td>\n",
              "    </tr>\n",
              "    <tr>\n",
              "      <th>513</th>\n",
              "      <td>-</td>\n",
              "      <td>-</td>\n",
              "      <td>-</td>\n",
              "      <td>-</td>\n",
              "      <td>-</td>\n",
              "      <td>-</td>\n",
              "      <td>-</td>\n",
              "      <td>-</td>\n",
              "      <td>77.15</td>\n",
              "    </tr>\n",
              "    <tr>\n",
              "      <th>542</th>\n",
              "      <td>-</td>\n",
              "      <td>-</td>\n",
              "      <td>-</td>\n",
              "      <td>-</td>\n",
              "      <td>-</td>\n",
              "      <td>-</td>\n",
              "      <td>-</td>\n",
              "      <td>-</td>\n",
              "      <td>163.24</td>\n",
              "    </tr>\n",
              "    <tr>\n",
              "      <th>543</th>\n",
              "      <td>-</td>\n",
              "      <td>-</td>\n",
              "      <td>-</td>\n",
              "      <td>-</td>\n",
              "      <td>-</td>\n",
              "      <td>-</td>\n",
              "      <td>-</td>\n",
              "      <td>-</td>\n",
              "      <td>139.15</td>\n",
              "    </tr>\n",
              "    <tr>\n",
              "      <th>544</th>\n",
              "      <td>-</td>\n",
              "      <td>-</td>\n",
              "      <td>-</td>\n",
              "      <td>-</td>\n",
              "      <td>-</td>\n",
              "      <td>-</td>\n",
              "      <td>-</td>\n",
              "      <td>-</td>\n",
              "      <td>103.58</td>\n",
              "    </tr>\n",
              "    <tr>\n",
              "      <th>545</th>\n",
              "      <td>-</td>\n",
              "      <td>-</td>\n",
              "      <td>-</td>\n",
              "      <td>-</td>\n",
              "      <td>-</td>\n",
              "      <td>-</td>\n",
              "      <td>-</td>\n",
              "      <td>-</td>\n",
              "      <td>113.35</td>\n",
              "    </tr>\n",
              "    <tr>\n",
              "      <th>546</th>\n",
              "      <td>-</td>\n",
              "      <td>-</td>\n",
              "      <td>-</td>\n",
              "      <td>-</td>\n",
              "      <td>-</td>\n",
              "      <td>-</td>\n",
              "      <td>-</td>\n",
              "      <td>-</td>\n",
              "      <td>106.46</td>\n",
              "    </tr>\n",
              "    <tr>\n",
              "      <th>547</th>\n",
              "      <td>-</td>\n",
              "      <td>-</td>\n",
              "      <td>-</td>\n",
              "      <td>-</td>\n",
              "      <td>-</td>\n",
              "      <td>-</td>\n",
              "      <td>-</td>\n",
              "      <td>-</td>\n",
              "      <td>None</td>\n",
              "    </tr>\n",
              "    <tr>\n",
              "      <th>638</th>\n",
              "      <td>-</td>\n",
              "      <td>-</td>\n",
              "      <td>-</td>\n",
              "      <td>-</td>\n",
              "      <td>-</td>\n",
              "      <td>-</td>\n",
              "      <td>-</td>\n",
              "      <td>-</td>\n",
              "      <td>162.51</td>\n",
              "    </tr>\n",
              "    <tr>\n",
              "      <th>639</th>\n",
              "      <td>-</td>\n",
              "      <td>-</td>\n",
              "      <td>-</td>\n",
              "      <td>-</td>\n",
              "      <td>-</td>\n",
              "      <td>-</td>\n",
              "      <td>-</td>\n",
              "      <td>-</td>\n",
              "      <td>139.67</td>\n",
              "    </tr>\n",
              "    <tr>\n",
              "      <th>640</th>\n",
              "      <td>-</td>\n",
              "      <td>-</td>\n",
              "      <td>-</td>\n",
              "      <td>-</td>\n",
              "      <td>-</td>\n",
              "      <td>-</td>\n",
              "      <td>-</td>\n",
              "      <td>-</td>\n",
              "      <td>None</td>\n",
              "    </tr>\n",
              "    <tr>\n",
              "      <th>641</th>\n",
              "      <td>-</td>\n",
              "      <td>-</td>\n",
              "      <td>-</td>\n",
              "      <td>-</td>\n",
              "      <td>-</td>\n",
              "      <td>-</td>\n",
              "      <td>-</td>\n",
              "      <td>-</td>\n",
              "      <td>None</td>\n",
              "    </tr>\n",
              "  </tbody>\n",
              "</table>\n",
              "</div>\n",
              "      <button class=\"colab-df-convert\" onclick=\"convertToInteractive('df-55753ece-8323-412c-826d-fab77e552aa8')\"\n",
              "              title=\"Convert this dataframe to an interactive table.\"\n",
              "              style=\"display:none;\">\n",
              "        \n",
              "  <svg xmlns=\"http://www.w3.org/2000/svg\" height=\"24px\"viewBox=\"0 0 24 24\"\n",
              "       width=\"24px\">\n",
              "    <path d=\"M0 0h24v24H0V0z\" fill=\"none\"/>\n",
              "    <path d=\"M18.56 5.44l.94 2.06.94-2.06 2.06-.94-2.06-.94-.94-2.06-.94 2.06-2.06.94zm-11 1L8.5 8.5l.94-2.06 2.06-.94-2.06-.94L8.5 2.5l-.94 2.06-2.06.94zm10 10l.94 2.06.94-2.06 2.06-.94-2.06-.94-.94-2.06-.94 2.06-2.06.94z\"/><path d=\"M17.41 7.96l-1.37-1.37c-.4-.4-.92-.59-1.43-.59-.52 0-1.04.2-1.43.59L10.3 9.45l-7.72 7.72c-.78.78-.78 2.05 0 2.83L4 21.41c.39.39.9.59 1.41.59.51 0 1.02-.2 1.41-.59l7.78-7.78 2.81-2.81c.8-.78.8-2.07 0-2.86zM5.41 20L4 18.59l7.72-7.72 1.47 1.35L5.41 20z\"/>\n",
              "  </svg>\n",
              "      </button>\n",
              "      \n",
              "  <style>\n",
              "    .colab-df-container {\n",
              "      display:flex;\n",
              "      flex-wrap:wrap;\n",
              "      gap: 12px;\n",
              "    }\n",
              "\n",
              "    .colab-df-convert {\n",
              "      background-color: #E8F0FE;\n",
              "      border: none;\n",
              "      border-radius: 50%;\n",
              "      cursor: pointer;\n",
              "      display: none;\n",
              "      fill: #1967D2;\n",
              "      height: 32px;\n",
              "      padding: 0 0 0 0;\n",
              "      width: 32px;\n",
              "    }\n",
              "\n",
              "    .colab-df-convert:hover {\n",
              "      background-color: #E2EBFA;\n",
              "      box-shadow: 0px 1px 2px rgba(60, 64, 67, 0.3), 0px 1px 3px 1px rgba(60, 64, 67, 0.15);\n",
              "      fill: #174EA6;\n",
              "    }\n",
              "\n",
              "    [theme=dark] .colab-df-convert {\n",
              "      background-color: #3B4455;\n",
              "      fill: #D2E3FC;\n",
              "    }\n",
              "\n",
              "    [theme=dark] .colab-df-convert:hover {\n",
              "      background-color: #434B5C;\n",
              "      box-shadow: 0px 1px 3px 1px rgba(0, 0, 0, 0.15);\n",
              "      filter: drop-shadow(0px 1px 2px rgba(0, 0, 0, 0.3));\n",
              "      fill: #FFFFFF;\n",
              "    }\n",
              "  </style>\n",
              "\n",
              "      <script>\n",
              "        const buttonEl =\n",
              "          document.querySelector('#df-55753ece-8323-412c-826d-fab77e552aa8 button.colab-df-convert');\n",
              "        buttonEl.style.display =\n",
              "          google.colab.kernel.accessAllowed ? 'block' : 'none';\n",
              "\n",
              "        async function convertToInteractive(key) {\n",
              "          const element = document.querySelector('#df-55753ece-8323-412c-826d-fab77e552aa8');\n",
              "          const dataTable =\n",
              "            await google.colab.kernel.invokeFunction('convertToInteractive',\n",
              "                                                     [key], {});\n",
              "          if (!dataTable) return;\n",
              "\n",
              "          const docLinkHtml = 'Like what you see? Visit the ' +\n",
              "            '<a target=\"_blank\" href=https://colab.research.google.com/notebooks/data_table.ipynb>data table notebook</a>'\n",
              "            + ' to learn more about interactive tables.';\n",
              "          element.innerHTML = '';\n",
              "          dataTable['output_type'] = 'display_data';\n",
              "          await google.colab.output.renderOutput(dataTable, element);\n",
              "          const docLink = document.createElement('div');\n",
              "          docLink.innerHTML = docLinkHtml;\n",
              "          element.appendChild(docLink);\n",
              "        }\n",
              "      </script>\n",
              "    </div>\n",
              "  </div>\n",
              "  "
            ]
          },
          "metadata": {},
          "execution_count": 8
        }
      ]
    },
    {
      "cell_type": "code",
      "source": [
        "\n",
        "df=df.replace('-',np.nan)"
      ],
      "metadata": {
        "id": "eyZizGqAUQKE"
      },
      "execution_count": null,
      "outputs": []
    },
    {
      "cell_type": "code",
      "source": [
        "#total number of null values in each feature\n",
        "df.isnull().sum()"
      ],
      "metadata": {
        "colab": {
          "base_uri": "https://localhost:8080/"
        },
        "id": "626hX9L0ePxW",
        "outputId": "897370e6-9027-4753-d2e6-7417f9906af0"
      },
      "execution_count": null,
      "outputs": [
        {
          "output_type": "execute_result",
          "data": {
            "text/plain": [
              "Avg temp                 15\n",
              "Max temp                 15\n",
              "Min temp                 15\n",
              "Avg relative humidity    15\n",
              "Total rainfall           57\n",
              "Avg visibility           15\n",
              "Avg wind speed           15\n",
              "Max wind speed           21\n",
              "PM10                      0\n",
              "dtype: int64"
            ]
          },
          "metadata": {},
          "execution_count": 10
        }
      ]
    },
    {
      "cell_type": "markdown",
      "source": [
        "\n",
        "Deleting specific rows which has null values in all the dependent features."
      ],
      "metadata": {
        "id": "IpzfC7AhgMMg"
      }
    },
    {
      "cell_type": "code",
      "source": [
        "df=df.dropna(subset=['Avg temp','Max temp','Min temp','Avg relative humidity','Total rainfall','Avg visibility','Avg wind speed','Max wind speed'],how='all')\n"
      ],
      "metadata": {
        "id": "lil3zmSvgLej"
      },
      "execution_count": null,
      "outputs": []
    },
    {
      "cell_type": "code",
      "source": [
        "df.isnull().sum()"
      ],
      "metadata": {
        "colab": {
          "base_uri": "https://localhost:8080/"
        },
        "id": "llsC83WNdlSK",
        "outputId": "26fb8a6f-90f1-4a5c-fd26-ee3081cf89e2"
      },
      "execution_count": null,
      "outputs": [
        {
          "output_type": "execute_result",
          "data": {
            "text/plain": [
              "Avg temp                  0\n",
              "Max temp                  0\n",
              "Min temp                  0\n",
              "Avg relative humidity     0\n",
              "Total rainfall           42\n",
              "Avg visibility            0\n",
              "Avg wind speed            0\n",
              "Max wind speed            6\n",
              "PM10                      0\n",
              "dtype: int64"
            ]
          },
          "metadata": {},
          "execution_count": 12
        }
      ]
    },
    {
      "cell_type": "code",
      "source": [
        "#most frequent value \n",
        "print('{} occurs {} times in this features'.format(df['Total rainfall'].value_counts().idxmax(),df['Total rainfall'].value_counts().max()) )\n"
      ],
      "metadata": {
        "colab": {
          "base_uri": "https://localhost:8080/"
        },
        "id": "mr9TMI43h4aC",
        "outputId": "518012e6-e3ac-4418-cbcd-0a65d1b308a7"
      },
      "execution_count": null,
      "outputs": [
        {
          "output_type": "stream",
          "name": "stdout",
          "text": [
            "0 occurs 623 times in this features\n"
          ]
        }
      ]
    },
    {
      "cell_type": "markdown",
      "source": [
        "\n",
        "\n",
        "* We observe that there are 42 null values in Total Rainfall.If we replace it with 0 (most frequent value).\n",
        "\n",
        "* Then, 70% of 'Total Rainfall' feature contains 0, which will  lead to High bias. \n",
        "\n",
        "\n",
        "* Also, the correlation with dependent feature 'PM10' is very low i.e -0.098 .Hence, dropping the column\n",
        "\n",
        "\n",
        "\n",
        "\n",
        "\n",
        "\n",
        "\n",
        "\n",
        "\n"
      ],
      "metadata": {
        "id": "Wzb-3iHZvqAx"
      }
    },
    {
      "cell_type": "code",
      "source": [
        "df=df.drop(['Total rainfall'],axis=1)"
      ],
      "metadata": {
        "id": "IXUkXlYiwAIK"
      },
      "execution_count": null,
      "outputs": []
    },
    {
      "cell_type": "code",
      "source": [
        "df.head()"
      ],
      "metadata": {
        "colab": {
          "base_uri": "https://localhost:8080/"
        },
        "id": "2BdG3PekwG1H",
        "outputId": "6a422ebc-6836-4240-d073-31b14626d9a9"
      },
      "execution_count": null,
      "outputs": [
        {
          "output_type": "execute_result",
          "data": {
            "text/plain": [
              "  Avg temp Max temp Min temp Avg relative humidity Avg visibility  \\\n",
              "0     20.1     28.4     15.7                    54              6   \n",
              "1     20.8     28.3     12.9                    45            6.3   \n",
              "2     21.4       29     13.7                    45            6.3   \n",
              "3       21     28.7       17                    65            6.3   \n",
              "4     20.4     27.6     16.2                    61            5.5   \n",
              "\n",
              "  Avg wind speed Max wind speed    PM10  \n",
              "0              3            5.4     106  \n",
              "1            1.1            5.4    97.4  \n",
              "2            0.4            3.5  105.33  \n",
              "3            3.1            5.4   74.04  \n",
              "4            1.3            5.4   63.57  "
            ],
            "text/html": [
              "\n",
              "  <div id=\"df-4d03ab82-7956-469c-8573-45916af74d14\">\n",
              "    <div class=\"colab-df-container\">\n",
              "      <div>\n",
              "<style scoped>\n",
              "    .dataframe tbody tr th:only-of-type {\n",
              "        vertical-align: middle;\n",
              "    }\n",
              "\n",
              "    .dataframe tbody tr th {\n",
              "        vertical-align: top;\n",
              "    }\n",
              "\n",
              "    .dataframe thead th {\n",
              "        text-align: right;\n",
              "    }\n",
              "</style>\n",
              "<table border=\"1\" class=\"dataframe\">\n",
              "  <thead>\n",
              "    <tr style=\"text-align: right;\">\n",
              "      <th></th>\n",
              "      <th>Avg temp</th>\n",
              "      <th>Max temp</th>\n",
              "      <th>Min temp</th>\n",
              "      <th>Avg relative humidity</th>\n",
              "      <th>Avg visibility</th>\n",
              "      <th>Avg wind speed</th>\n",
              "      <th>Max wind speed</th>\n",
              "      <th>PM10</th>\n",
              "    </tr>\n",
              "  </thead>\n",
              "  <tbody>\n",
              "    <tr>\n",
              "      <th>0</th>\n",
              "      <td>20.1</td>\n",
              "      <td>28.4</td>\n",
              "      <td>15.7</td>\n",
              "      <td>54</td>\n",
              "      <td>6</td>\n",
              "      <td>3</td>\n",
              "      <td>5.4</td>\n",
              "      <td>106</td>\n",
              "    </tr>\n",
              "    <tr>\n",
              "      <th>1</th>\n",
              "      <td>20.8</td>\n",
              "      <td>28.3</td>\n",
              "      <td>12.9</td>\n",
              "      <td>45</td>\n",
              "      <td>6.3</td>\n",
              "      <td>1.1</td>\n",
              "      <td>5.4</td>\n",
              "      <td>97.4</td>\n",
              "    </tr>\n",
              "    <tr>\n",
              "      <th>2</th>\n",
              "      <td>21.4</td>\n",
              "      <td>29</td>\n",
              "      <td>13.7</td>\n",
              "      <td>45</td>\n",
              "      <td>6.3</td>\n",
              "      <td>0.4</td>\n",
              "      <td>3.5</td>\n",
              "      <td>105.33</td>\n",
              "    </tr>\n",
              "    <tr>\n",
              "      <th>3</th>\n",
              "      <td>21</td>\n",
              "      <td>28.7</td>\n",
              "      <td>17</td>\n",
              "      <td>65</td>\n",
              "      <td>6.3</td>\n",
              "      <td>3.1</td>\n",
              "      <td>5.4</td>\n",
              "      <td>74.04</td>\n",
              "    </tr>\n",
              "    <tr>\n",
              "      <th>4</th>\n",
              "      <td>20.4</td>\n",
              "      <td>27.6</td>\n",
              "      <td>16.2</td>\n",
              "      <td>61</td>\n",
              "      <td>5.5</td>\n",
              "      <td>1.3</td>\n",
              "      <td>5.4</td>\n",
              "      <td>63.57</td>\n",
              "    </tr>\n",
              "  </tbody>\n",
              "</table>\n",
              "</div>\n",
              "      <button class=\"colab-df-convert\" onclick=\"convertToInteractive('df-4d03ab82-7956-469c-8573-45916af74d14')\"\n",
              "              title=\"Convert this dataframe to an interactive table.\"\n",
              "              style=\"display:none;\">\n",
              "        \n",
              "  <svg xmlns=\"http://www.w3.org/2000/svg\" height=\"24px\"viewBox=\"0 0 24 24\"\n",
              "       width=\"24px\">\n",
              "    <path d=\"M0 0h24v24H0V0z\" fill=\"none\"/>\n",
              "    <path d=\"M18.56 5.44l.94 2.06.94-2.06 2.06-.94-2.06-.94-.94-2.06-.94 2.06-2.06.94zm-11 1L8.5 8.5l.94-2.06 2.06-.94-2.06-.94L8.5 2.5l-.94 2.06-2.06.94zm10 10l.94 2.06.94-2.06 2.06-.94-2.06-.94-.94-2.06-.94 2.06-2.06.94z\"/><path d=\"M17.41 7.96l-1.37-1.37c-.4-.4-.92-.59-1.43-.59-.52 0-1.04.2-1.43.59L10.3 9.45l-7.72 7.72c-.78.78-.78 2.05 0 2.83L4 21.41c.39.39.9.59 1.41.59.51 0 1.02-.2 1.41-.59l7.78-7.78 2.81-2.81c.8-.78.8-2.07 0-2.86zM5.41 20L4 18.59l7.72-7.72 1.47 1.35L5.41 20z\"/>\n",
              "  </svg>\n",
              "      </button>\n",
              "      \n",
              "  <style>\n",
              "    .colab-df-container {\n",
              "      display:flex;\n",
              "      flex-wrap:wrap;\n",
              "      gap: 12px;\n",
              "    }\n",
              "\n",
              "    .colab-df-convert {\n",
              "      background-color: #E8F0FE;\n",
              "      border: none;\n",
              "      border-radius: 50%;\n",
              "      cursor: pointer;\n",
              "      display: none;\n",
              "      fill: #1967D2;\n",
              "      height: 32px;\n",
              "      padding: 0 0 0 0;\n",
              "      width: 32px;\n",
              "    }\n",
              "\n",
              "    .colab-df-convert:hover {\n",
              "      background-color: #E2EBFA;\n",
              "      box-shadow: 0px 1px 2px rgba(60, 64, 67, 0.3), 0px 1px 3px 1px rgba(60, 64, 67, 0.15);\n",
              "      fill: #174EA6;\n",
              "    }\n",
              "\n",
              "    [theme=dark] .colab-df-convert {\n",
              "      background-color: #3B4455;\n",
              "      fill: #D2E3FC;\n",
              "    }\n",
              "\n",
              "    [theme=dark] .colab-df-convert:hover {\n",
              "      background-color: #434B5C;\n",
              "      box-shadow: 0px 1px 3px 1px rgba(0, 0, 0, 0.15);\n",
              "      filter: drop-shadow(0px 1px 2px rgba(0, 0, 0, 0.3));\n",
              "      fill: #FFFFFF;\n",
              "    }\n",
              "  </style>\n",
              "\n",
              "      <script>\n",
              "        const buttonEl =\n",
              "          document.querySelector('#df-4d03ab82-7956-469c-8573-45916af74d14 button.colab-df-convert');\n",
              "        buttonEl.style.display =\n",
              "          google.colab.kernel.accessAllowed ? 'block' : 'none';\n",
              "\n",
              "        async function convertToInteractive(key) {\n",
              "          const element = document.querySelector('#df-4d03ab82-7956-469c-8573-45916af74d14');\n",
              "          const dataTable =\n",
              "            await google.colab.kernel.invokeFunction('convertToInteractive',\n",
              "                                                     [key], {});\n",
              "          if (!dataTable) return;\n",
              "\n",
              "          const docLinkHtml = 'Like what you see? Visit the ' +\n",
              "            '<a target=\"_blank\" href=https://colab.research.google.com/notebooks/data_table.ipynb>data table notebook</a>'\n",
              "            + ' to learn more about interactive tables.';\n",
              "          element.innerHTML = '';\n",
              "          dataTable['output_type'] = 'display_data';\n",
              "          await google.colab.output.renderOutput(dataTable, element);\n",
              "          const docLink = document.createElement('div');\n",
              "          docLink.innerHTML = docLinkHtml;\n",
              "          element.appendChild(docLink);\n",
              "        }\n",
              "      </script>\n",
              "    </div>\n",
              "  </div>\n",
              "  "
            ]
          },
          "metadata": {},
          "execution_count": 15
        }
      ]
    },
    {
      "cell_type": "code",
      "source": [
        "df.isnull().sum()"
      ],
      "metadata": {
        "id": "QnziUrpIk5kF",
        "colab": {
          "base_uri": "https://localhost:8080/"
        },
        "outputId": "fa7a9597-a95f-4d3b-8ed7-072778cd7a64"
      },
      "execution_count": null,
      "outputs": [
        {
          "output_type": "execute_result",
          "data": {
            "text/plain": [
              "Avg temp                 0\n",
              "Max temp                 0\n",
              "Min temp                 0\n",
              "Avg relative humidity    0\n",
              "Avg visibility           0\n",
              "Avg wind speed           0\n",
              "Max wind speed           6\n",
              "PM10                     0\n",
              "dtype: int64"
            ]
          },
          "metadata": {},
          "execution_count": 16
        }
      ]
    },
    {
      "cell_type": "markdown",
      "source": [
        "'Max wind speed' feature has 6 null values\n",
        "**bold text**"
      ],
      "metadata": {
        "id": "xozPyBpCrZbf"
      }
    },
    {
      "cell_type": "code",
      "source": [
        "#replacing null value with median\n",
        "df['Max wind speed'].median()"
      ],
      "metadata": {
        "colab": {
          "base_uri": "https://localhost:8080/"
        },
        "id": "hmcsubdEreg2",
        "outputId": "da19f4de-c5a2-4f36-bf78-4b92d9cce14e"
      },
      "execution_count": null,
      "outputs": [
        {
          "output_type": "execute_result",
          "data": {
            "text/plain": [
              "7.6"
            ]
          },
          "metadata": {},
          "execution_count": 17
        }
      ]
    },
    {
      "cell_type": "code",
      "source": [
        "#replacing null values with the most frequent value\n",
        "df['Max wind speed']=df['Max wind speed'].replace(np.nan,7.6)"
      ],
      "metadata": {
        "id": "Y14DzFyvv_U5"
      },
      "execution_count": null,
      "outputs": []
    },
    {
      "cell_type": "code",
      "source": [
        "# In PM10 'None' exists as a string, need to replace it to Nan \n",
        "df['PM10']=df['PM10'].replace('None',np.nan)"
      ],
      "metadata": {
        "id": "0gY9B7uQ5OWp"
      },
      "execution_count": null,
      "outputs": []
    },
    {
      "cell_type": "code",
      "source": [
        "df.PM10.isnull().sum()"
      ],
      "metadata": {
        "colab": {
          "base_uri": "https://localhost:8080/"
        },
        "id": "HI2M8ZphxKG2",
        "outputId": "d2063b4e-c05e-48c1-f09e-d9e356eb3c08"
      },
      "execution_count": null,
      "outputs": [
        {
          "output_type": "execute_result",
          "data": {
            "text/plain": [
              "193"
            ]
          },
          "metadata": {},
          "execution_count": 20
        }
      ]
    },
    {
      "cell_type": "markdown",
      "source": [
        "**Forward fill**\n",
        "\n",
        "\n",
        "Here we are  replacing null values with the previous value.\n",
        "\n",
        "As the PM10 data was retrieved once for every 24 hours.\n",
        "\n",
        "So the PM10 in the atmosphere will almost be similar to the previous day."
      ],
      "metadata": {
        "id": "ntancJCByrpJ"
      }
    },
    {
      "cell_type": "code",
      "source": [
        "#get the median of the PM10 feature\n",
        "df['PM10']=df['PM10'].fillna(method='ffill')"
      ],
      "metadata": {
        "id": "wK6PP0l05cbH"
      },
      "execution_count": null,
      "outputs": []
    },
    {
      "cell_type": "code",
      "source": [
        "df.isnull().sum()"
      ],
      "metadata": {
        "colab": {
          "base_uri": "https://localhost:8080/"
        },
        "id": "GO12mTt852E_",
        "outputId": "62231014-0d1a-45b0-fc6b-2e2b7e855da9"
      },
      "execution_count": null,
      "outputs": [
        {
          "output_type": "execute_result",
          "data": {
            "text/plain": [
              "Avg temp                 0\n",
              "Max temp                 0\n",
              "Min temp                 0\n",
              "Avg relative humidity    0\n",
              "Avg visibility           0\n",
              "Avg wind speed           0\n",
              "Max wind speed           0\n",
              "PM10                     0\n",
              "dtype: int64"
            ]
          },
          "metadata": {},
          "execution_count": 22
        }
      ]
    },
    {
      "cell_type": "markdown",
      "source": [
        "#Feature Importance"
      ],
      "metadata": {
        "id": "CAW6IdHI2iG4"
      }
    },
    {
      "cell_type": "code",
      "source": [
        "df.head()"
      ],
      "metadata": {
        "colab": {
          "base_uri": "https://localhost:8080/",
          "height": 206
        },
        "id": "HDCS2ZN254Uv",
        "outputId": "96d70631-e482-4d9b-f12c-21e56a99c7c5"
      },
      "execution_count": null,
      "outputs": [
        {
          "output_type": "execute_result",
          "data": {
            "text/plain": [
              "  Avg temp Max temp Min temp Avg relative humidity Avg visibility  \\\n",
              "0     20.1     28.4     15.7                    54              6   \n",
              "1     20.8     28.3     12.9                    45            6.3   \n",
              "2     21.4       29     13.7                    45            6.3   \n",
              "3       21     28.7       17                    65            6.3   \n",
              "4     20.4     27.6     16.2                    61            5.5   \n",
              "\n",
              "  Avg wind speed Max wind speed    PM10  \n",
              "0              3            5.4     106  \n",
              "1            1.1            5.4    97.4  \n",
              "2            0.4            3.5  105.33  \n",
              "3            3.1            5.4   74.04  \n",
              "4            1.3            5.4   63.57  "
            ],
            "text/html": [
              "\n",
              "  <div id=\"df-f35f1e23-5fcd-4fe1-88d6-7e8bc320e37d\">\n",
              "    <div class=\"colab-df-container\">\n",
              "      <div>\n",
              "<style scoped>\n",
              "    .dataframe tbody tr th:only-of-type {\n",
              "        vertical-align: middle;\n",
              "    }\n",
              "\n",
              "    .dataframe tbody tr th {\n",
              "        vertical-align: top;\n",
              "    }\n",
              "\n",
              "    .dataframe thead th {\n",
              "        text-align: right;\n",
              "    }\n",
              "</style>\n",
              "<table border=\"1\" class=\"dataframe\">\n",
              "  <thead>\n",
              "    <tr style=\"text-align: right;\">\n",
              "      <th></th>\n",
              "      <th>Avg temp</th>\n",
              "      <th>Max temp</th>\n",
              "      <th>Min temp</th>\n",
              "      <th>Avg relative humidity</th>\n",
              "      <th>Avg visibility</th>\n",
              "      <th>Avg wind speed</th>\n",
              "      <th>Max wind speed</th>\n",
              "      <th>PM10</th>\n",
              "    </tr>\n",
              "  </thead>\n",
              "  <tbody>\n",
              "    <tr>\n",
              "      <th>0</th>\n",
              "      <td>20.1</td>\n",
              "      <td>28.4</td>\n",
              "      <td>15.7</td>\n",
              "      <td>54</td>\n",
              "      <td>6</td>\n",
              "      <td>3</td>\n",
              "      <td>5.4</td>\n",
              "      <td>106</td>\n",
              "    </tr>\n",
              "    <tr>\n",
              "      <th>1</th>\n",
              "      <td>20.8</td>\n",
              "      <td>28.3</td>\n",
              "      <td>12.9</td>\n",
              "      <td>45</td>\n",
              "      <td>6.3</td>\n",
              "      <td>1.1</td>\n",
              "      <td>5.4</td>\n",
              "      <td>97.4</td>\n",
              "    </tr>\n",
              "    <tr>\n",
              "      <th>2</th>\n",
              "      <td>21.4</td>\n",
              "      <td>29</td>\n",
              "      <td>13.7</td>\n",
              "      <td>45</td>\n",
              "      <td>6.3</td>\n",
              "      <td>0.4</td>\n",
              "      <td>3.5</td>\n",
              "      <td>105.33</td>\n",
              "    </tr>\n",
              "    <tr>\n",
              "      <th>3</th>\n",
              "      <td>21</td>\n",
              "      <td>28.7</td>\n",
              "      <td>17</td>\n",
              "      <td>65</td>\n",
              "      <td>6.3</td>\n",
              "      <td>3.1</td>\n",
              "      <td>5.4</td>\n",
              "      <td>74.04</td>\n",
              "    </tr>\n",
              "    <tr>\n",
              "      <th>4</th>\n",
              "      <td>20.4</td>\n",
              "      <td>27.6</td>\n",
              "      <td>16.2</td>\n",
              "      <td>61</td>\n",
              "      <td>5.5</td>\n",
              "      <td>1.3</td>\n",
              "      <td>5.4</td>\n",
              "      <td>63.57</td>\n",
              "    </tr>\n",
              "  </tbody>\n",
              "</table>\n",
              "</div>\n",
              "      <button class=\"colab-df-convert\" onclick=\"convertToInteractive('df-f35f1e23-5fcd-4fe1-88d6-7e8bc320e37d')\"\n",
              "              title=\"Convert this dataframe to an interactive table.\"\n",
              "              style=\"display:none;\">\n",
              "        \n",
              "  <svg xmlns=\"http://www.w3.org/2000/svg\" height=\"24px\"viewBox=\"0 0 24 24\"\n",
              "       width=\"24px\">\n",
              "    <path d=\"M0 0h24v24H0V0z\" fill=\"none\"/>\n",
              "    <path d=\"M18.56 5.44l.94 2.06.94-2.06 2.06-.94-2.06-.94-.94-2.06-.94 2.06-2.06.94zm-11 1L8.5 8.5l.94-2.06 2.06-.94-2.06-.94L8.5 2.5l-.94 2.06-2.06.94zm10 10l.94 2.06.94-2.06 2.06-.94-2.06-.94-.94-2.06-.94 2.06-2.06.94z\"/><path d=\"M17.41 7.96l-1.37-1.37c-.4-.4-.92-.59-1.43-.59-.52 0-1.04.2-1.43.59L10.3 9.45l-7.72 7.72c-.78.78-.78 2.05 0 2.83L4 21.41c.39.39.9.59 1.41.59.51 0 1.02-.2 1.41-.59l7.78-7.78 2.81-2.81c.8-.78.8-2.07 0-2.86zM5.41 20L4 18.59l7.72-7.72 1.47 1.35L5.41 20z\"/>\n",
              "  </svg>\n",
              "      </button>\n",
              "      \n",
              "  <style>\n",
              "    .colab-df-container {\n",
              "      display:flex;\n",
              "      flex-wrap:wrap;\n",
              "      gap: 12px;\n",
              "    }\n",
              "\n",
              "    .colab-df-convert {\n",
              "      background-color: #E8F0FE;\n",
              "      border: none;\n",
              "      border-radius: 50%;\n",
              "      cursor: pointer;\n",
              "      display: none;\n",
              "      fill: #1967D2;\n",
              "      height: 32px;\n",
              "      padding: 0 0 0 0;\n",
              "      width: 32px;\n",
              "    }\n",
              "\n",
              "    .colab-df-convert:hover {\n",
              "      background-color: #E2EBFA;\n",
              "      box-shadow: 0px 1px 2px rgba(60, 64, 67, 0.3), 0px 1px 3px 1px rgba(60, 64, 67, 0.15);\n",
              "      fill: #174EA6;\n",
              "    }\n",
              "\n",
              "    [theme=dark] .colab-df-convert {\n",
              "      background-color: #3B4455;\n",
              "      fill: #D2E3FC;\n",
              "    }\n",
              "\n",
              "    [theme=dark] .colab-df-convert:hover {\n",
              "      background-color: #434B5C;\n",
              "      box-shadow: 0px 1px 3px 1px rgba(0, 0, 0, 0.15);\n",
              "      filter: drop-shadow(0px 1px 2px rgba(0, 0, 0, 0.3));\n",
              "      fill: #FFFFFF;\n",
              "    }\n",
              "  </style>\n",
              "\n",
              "      <script>\n",
              "        const buttonEl =\n",
              "          document.querySelector('#df-f35f1e23-5fcd-4fe1-88d6-7e8bc320e37d button.colab-df-convert');\n",
              "        buttonEl.style.display =\n",
              "          google.colab.kernel.accessAllowed ? 'block' : 'none';\n",
              "\n",
              "        async function convertToInteractive(key) {\n",
              "          const element = document.querySelector('#df-f35f1e23-5fcd-4fe1-88d6-7e8bc320e37d');\n",
              "          const dataTable =\n",
              "            await google.colab.kernel.invokeFunction('convertToInteractive',\n",
              "                                                     [key], {});\n",
              "          if (!dataTable) return;\n",
              "\n",
              "          const docLinkHtml = 'Like what you see? Visit the ' +\n",
              "            '<a target=\"_blank\" href=https://colab.research.google.com/notebooks/data_table.ipynb>data table notebook</a>'\n",
              "            + ' to learn more about interactive tables.';\n",
              "          element.innerHTML = '';\n",
              "          dataTable['output_type'] = 'display_data';\n",
              "          await google.colab.output.renderOutput(dataTable, element);\n",
              "          const docLink = document.createElement('div');\n",
              "          docLink.innerHTML = docLinkHtml;\n",
              "          element.appendChild(docLink);\n",
              "        }\n",
              "      </script>\n",
              "    </div>\n",
              "  </div>\n",
              "  "
            ]
          },
          "metadata": {},
          "execution_count": 23
        }
      ]
    },
    {
      "cell_type": "code",
      "source": [
        "df.dtypes"
      ],
      "metadata": {
        "colab": {
          "base_uri": "https://localhost:8080/"
        },
        "id": "wb6cZqFR86NE",
        "outputId": "afcdf95e-54f3-4253-9772-194bb77bbda1"
      },
      "execution_count": null,
      "outputs": [
        {
          "output_type": "execute_result",
          "data": {
            "text/plain": [
              "Avg temp                 object\n",
              "Max temp                 object\n",
              "Min temp                 object\n",
              "Avg relative humidity    object\n",
              "Avg visibility           object\n",
              "Avg wind speed           object\n",
              "Max wind speed           object\n",
              "PM10                     object\n",
              "dtype: object"
            ]
          },
          "metadata": {},
          "execution_count": 24
        }
      ]
    },
    {
      "cell_type": "code",
      "source": [
        "#converting dtypes to float to check for correlation\n",
        "df=df.astype(float)"
      ],
      "metadata": {
        "id": "xcWh5Jp09NCp"
      },
      "execution_count": null,
      "outputs": []
    },
    {
      "cell_type": "code",
      "source": [
        "import seaborn as sns\n",
        "#get correlations of each features in dataset\n",
        "corrmat = df.corr()\n",
        "top_corr_features = corrmat.index\n",
        "plt.figure(figsize=(20,20))\n",
        "#plot heat map\n",
        "g=sns.heatmap(df[top_corr_features].corr(),annot=True,cmap=\"RdYlGn\")"
      ],
      "metadata": {
        "colab": {
          "base_uri": "https://localhost:8080/",
          "height": 1000
        },
        "id": "YJiRz5Tc95BJ",
        "outputId": "5b113244-452c-4f1b-fcd8-8a79961c2d8d"
      },
      "execution_count": null,
      "outputs": [
        {
          "output_type": "display_data",
          "data": {
            "text/plain": [
              "<Figure size 1440x1440 with 2 Axes>"
            ],
            "image/png": "[encoded data removed]"
          },
          "metadata": {
            "needs_background": "light"
          }
        }
      ]
    },
    {
      "cell_type": "markdown",
      "source": [
        "We observe correlation values between the PM10 (dependent feature) and the independent features.\n",
        "\n"
      ],
      "metadata": {
        "id": "_TT_lGyD5eqk"
      }
    },
    {
      "cell_type": "markdown",
      "source": [
        "We are not removing any features eventhough the correlation values are low, as there are only few of them."
      ],
      "metadata": {
        "id": "K1kkCYMA5tdh"
      }
    },
    {
      "cell_type": "code",
      "source": [
        "X=df.iloc[:,0:-1]\n",
        "y=df.iloc[:,-1]"
      ],
      "metadata": {
        "id": "VMyswaDO6HNq"
      },
      "execution_count": null,
      "outputs": []
    },
    {
      "cell_type": "code",
      "source": [
        "y.head()"
      ],
      "metadata": {
        "colab": {
          "base_uri": "https://localhost:8080/"
        },
        "id": "nq4nlGYm69Rl",
        "outputId": "4adb1482-c27b-41ad-e86c-6c0b42fb285c"
      },
      "execution_count": null,
      "outputs": [
        {
          "output_type": "execute_result",
          "data": {
            "text/plain": [
              "0    106.00\n",
              "1     97.40\n",
              "2    105.33\n",
              "3     74.04\n",
              "4     63.57\n",
              "Name: PM10, dtype: float64"
            ]
          },
          "metadata": {},
          "execution_count": 28
        }
      ]
    },
    {
      "cell_type": "markdown",
      "source": [
        "We can also view the feature importance using ExtraTreesRegressor"
      ],
      "metadata": {
        "id": "JUH-2hMv9BCf"
      }
    },
    {
      "cell_type": "code",
      "source": [
        "from sklearn.ensemble import ExtraTreesRegressor\n",
        "import matplotlib.pyplot as plt\n",
        "model = ExtraTreesRegressor()\n",
        "model.fit(X,y)"
      ],
      "metadata": {
        "id": "VJyRgnEjT1Ze",
        "colab": {
          "base_uri": "https://localhost:8080/"
        },
        "outputId": "d81876b0-5e70-4acd-9566-a75e0de53236"
      },
      "execution_count": null,
      "outputs": [
        {
          "output_type": "execute_result",
          "data": {
            "text/plain": [
              "ExtraTreesRegressor()"
            ]
          },
          "metadata": {},
          "execution_count": 29
        }
      ]
    },
    {
      "cell_type": "code",
      "source": [
        "X.head()"
      ],
      "metadata": {
        "colab": {
          "base_uri": "https://localhost:8080/",
          "height": 206
        },
        "id": "VVjcJNQf6Q6l",
        "outputId": "d599f2cd-d8c9-4683-bbca-84e3e916808b"
      },
      "execution_count": null,
      "outputs": [
        {
          "output_type": "execute_result",
          "data": {
            "text/plain": [
              "   Avg temp  Max temp  Min temp  Avg relative humidity  Avg visibility  \\\n",
              "0      20.1      28.4      15.7                   54.0             6.0   \n",
              "1      20.8      28.3      12.9                   45.0             6.3   \n",
              "2      21.4      29.0      13.7                   45.0             6.3   \n",
              "3      21.0      28.7      17.0                   65.0             6.3   \n",
              "4      20.4      27.6      16.2                   61.0             5.5   \n",
              "\n",
              "   Avg wind speed  Max wind speed  \n",
              "0             3.0             5.4  \n",
              "1             1.1             5.4  \n",
              "2             0.4             3.5  \n",
              "3             3.1             5.4  \n",
              "4             1.3             5.4  "
            ],
            "text/html": [
              "\n",
              "  <div id=\"df-70bfab8a-6898-4c0d-a32c-41a8d28389b5\">\n",
              "    <div class=\"colab-df-container\">\n",
              "      <div>\n",
              "<style scoped>\n",
              "    .dataframe tbody tr th:only-of-type {\n",
              "        vertical-align: middle;\n",
              "    }\n",
              "\n",
              "    .dataframe tbody tr th {\n",
              "        vertical-align: top;\n",
              "    }\n",
              "\n",
              "    .dataframe thead th {\n",
              "        text-align: right;\n",
              "    }\n",
              "</style>\n",
              "<table border=\"1\" class=\"dataframe\">\n",
              "  <thead>\n",
              "    <tr style=\"text-align: right;\">\n",
              "      <th></th>\n",
              "      <th>Avg temp</th>\n",
              "      <th>Max temp</th>\n",
              "      <th>Min temp</th>\n",
              "      <th>Avg relative humidity</th>\n",
              "      <th>Avg visibility</th>\n",
              "      <th>Avg wind speed</th>\n",
              "      <th>Max wind speed</th>\n",
              "    </tr>\n",
              "  </thead>\n",
              "  <tbody>\n",
              "    <tr>\n",
              "      <th>0</th>\n",
              "      <td>20.1</td>\n",
              "      <td>28.4</td>\n",
              "      <td>15.7</td>\n",
              "      <td>54.0</td>\n",
              "      <td>6.0</td>\n",
              "      <td>3.0</td>\n",
              "      <td>5.4</td>\n",
              "    </tr>\n",
              "    <tr>\n",
              "      <th>1</th>\n",
              "      <td>20.8</td>\n",
              "      <td>28.3</td>\n",
              "      <td>12.9</td>\n",
              "      <td>45.0</td>\n",
              "      <td>6.3</td>\n",
              "      <td>1.1</td>\n",
              "      <td>5.4</td>\n",
              "    </tr>\n",
              "    <tr>\n",
              "      <th>2</th>\n",
              "      <td>21.4</td>\n",
              "      <td>29.0</td>\n",
              "      <td>13.7</td>\n",
              "      <td>45.0</td>\n",
              "      <td>6.3</td>\n",
              "      <td>0.4</td>\n",
              "      <td>3.5</td>\n",
              "    </tr>\n",
              "    <tr>\n",
              "      <th>3</th>\n",
              "      <td>21.0</td>\n",
              "      <td>28.7</td>\n",
              "      <td>17.0</td>\n",
              "      <td>65.0</td>\n",
              "      <td>6.3</td>\n",
              "      <td>3.1</td>\n",
              "      <td>5.4</td>\n",
              "    </tr>\n",
              "    <tr>\n",
              "      <th>4</th>\n",
              "      <td>20.4</td>\n",
              "      <td>27.6</td>\n",
              "      <td>16.2</td>\n",
              "      <td>61.0</td>\n",
              "      <td>5.5</td>\n",
              "      <td>1.3</td>\n",
              "      <td>5.4</td>\n",
              "    </tr>\n",
              "  </tbody>\n",
              "</table>\n",
              "</div>\n",
              "      <button class=\"colab-df-convert\" onclick=\"convertToInteractive('df-70bfab8a-6898-4c0d-a32c-41a8d28389b5')\"\n",
              "              title=\"Convert this dataframe to an interactive table.\"\n",
              "              style=\"display:none;\">\n",
              "        \n",
              "  <svg xmlns=\"http://www.w3.org/2000/svg\" height=\"24px\"viewBox=\"0 0 24 24\"\n",
              "       width=\"24px\">\n",
              "    <path d=\"M0 0h24v24H0V0z\" fill=\"none\"/>\n",
              "    <path d=\"M18.56 5.44l.94 2.06.94-2.06 2.06-.94-2.06-.94-.94-2.06-.94 2.06-2.06.94zm-11 1L8.5 8.5l.94-2.06 2.06-.94-2.06-.94L8.5 2.5l-.94 2.06-2.06.94zm10 10l.94 2.06.94-2.06 2.06-.94-2.06-.94-.94-2.06-.94 2.06-2.06.94z\"/><path d=\"M17.41 7.96l-1.37-1.37c-.4-.4-.92-.59-1.43-.59-.52 0-1.04.2-1.43.59L10.3 9.45l-7.72 7.72c-.78.78-.78 2.05 0 2.83L4 21.41c.39.39.9.59 1.41.59.51 0 1.02-.2 1.41-.59l7.78-7.78 2.81-2.81c.8-.78.8-2.07 0-2.86zM5.41 20L4 18.59l7.72-7.72 1.47 1.35L5.41 20z\"/>\n",
              "  </svg>\n",
              "      </button>\n",
              "      \n",
              "  <style>\n",
              "    .colab-df-container {\n",
              "      display:flex;\n",
              "      flex-wrap:wrap;\n",
              "      gap: 12px;\n",
              "    }\n",
              "\n",
              "    .colab-df-convert {\n",
              "      background-color: #E8F0FE;\n",
              "      border: none;\n",
              "      border-radius: 50%;\n",
              "      cursor: pointer;\n",
              "      display: none;\n",
              "      fill: #1967D2;\n",
              "      height: 32px;\n",
              "      padding: 0 0 0 0;\n",
              "      width: 32px;\n",
              "    }\n",
              "\n",
              "    .colab-df-convert:hover {\n",
              "      background-color: #E2EBFA;\n",
              "      box-shadow: 0px 1px 2px rgba(60, 64, 67, 0.3), 0px 1px 3px 1px rgba(60, 64, 67, 0.15);\n",
              "      fill: #174EA6;\n",
              "    }\n",
              "\n",
              "    [theme=dark] .colab-df-convert {\n",
              "      background-color: #3B4455;\n",
              "      fill: #D2E3FC;\n",
              "    }\n",
              "\n",
              "    [theme=dark] .colab-df-convert:hover {\n",
              "      background-color: #434B5C;\n",
              "      box-shadow: 0px 1px 3px 1px rgba(0, 0, 0, 0.15);\n",
              "      filter: drop-shadow(0px 1px 2px rgba(0, 0, 0, 0.3));\n",
              "      fill: #FFFFFF;\n",
              "    }\n",
              "  </style>\n",
              "\n",
              "      <script>\n",
              "        const buttonEl =\n",
              "          document.querySelector('#df-70bfab8a-6898-4c0d-a32c-41a8d28389b5 button.colab-df-convert');\n",
              "        buttonEl.style.display =\n",
              "          google.colab.kernel.accessAllowed ? 'block' : 'none';\n",
              "\n",
              "        async function convertToInteractive(key) {\n",
              "          const element = document.querySelector('#df-70bfab8a-6898-4c0d-a32c-41a8d28389b5');\n",
              "          const dataTable =\n",
              "            await google.colab.kernel.invokeFunction('convertToInteractive',\n",
              "                                                     [key], {});\n",
              "          if (!dataTable) return;\n",
              "\n",
              "          const docLinkHtml = 'Like what you see? Visit the ' +\n",
              "            '<a target=\"_blank\" href=https://colab.research.google.com/notebooks/data_table.ipynb>data table notebook</a>'\n",
              "            + ' to learn more about interactive tables.';\n",
              "          element.innerHTML = '';\n",
              "          dataTable['output_type'] = 'display_data';\n",
              "          await google.colab.output.renderOutput(dataTable, element);\n",
              "          const docLink = document.createElement('div');\n",
              "          docLink.innerHTML = docLinkHtml;\n",
              "          element.appendChild(docLink);\n",
              "        }\n",
              "      </script>\n",
              "    </div>\n",
              "  </div>\n",
              "  "
            ]
          },
          "metadata": {},
          "execution_count": 30
        }
      ]
    },
    {
      "cell_type": "code",
      "source": [
        "#feature importance values in respective to the above features \n",
        "print(model.feature_importances_)\n"
      ],
      "metadata": {
        "colab": {
          "base_uri": "https://localhost:8080/"
        },
        "id": "1YQ1FBmm7LwV",
        "outputId": "39ab344d-402b-483e-9240-89864fcd1620"
      },
      "execution_count": null,
      "outputs": [
        {
          "output_type": "stream",
          "name": "stdout",
          "text": [
            "[0.14303269 0.16801098 0.13156859 0.2328827  0.09002073 0.1462355\n",
            " 0.08824881]\n"
          ]
        }
      ]
    },
    {
      "cell_type": "markdown",
      "source": [
        "These are the top 5 important features.\n",
        "\n",
        "We can observe that 'Avg relative humidity' feature has the highest importance and "
      ],
      "metadata": {
        "id": "AcU1i3i19sNe"
      }
    },
    {
      "cell_type": "code",
      "source": [
        "#plot graph of feature importances for better visualization\n",
        "\n",
        "feat_importances = pd.Series(model.feature_importances_, index=X.columns)\n",
        "feat_importances.nlargest(5).plot(kind='barh')\n",
        "plt.show()"
      ],
      "metadata": {
        "colab": {
          "base_uri": "https://localhost:8080/",
          "height": 265
        },
        "id": "_lKzh-1P7ZY5",
        "outputId": "03abc220-ae2a-401a-daea-bbd881dd40c8"
      },
      "execution_count": null,
      "outputs": [
        {
          "output_type": "display_data",
          "data": {
            "text/plain": [
              "<Figure size 432x288 with 1 Axes>"
            ],
            "image/png": "[encoded data removed]"
          },
          "metadata": {
            "needs_background": "light"
          }
        }
      ]
    },
    {
      "cell_type": "code",
      "source": [
        "df.to_csv('processed_data.csv')"
      ],
      "metadata": {
        "id": "Hh6QjD0O-1SK"
      },
      "execution_count": null,
      "outputs": []
    }
  ]
}